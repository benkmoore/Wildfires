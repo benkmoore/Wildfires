{
 "cells": [
  {
   "cell_type": "code",
   "execution_count": 3,
   "metadata": {},
   "outputs": [],
   "source": [
    "import sqlite3\n",
    "import pandas as pd\n",
    "import numpy as np\n",
    "import matplotlib.pyplot as plt\n",
    "\n",
    "from sklearn.preprocessing import StandardScaler\n",
    "from sklearn.model_selection import train_test_split\n",
    "import keras\n",
    "from keras.models import Sequential\n",
    "from keras.layers import Dense, Dropout\n"
   ]
  },
  {
   "cell_type": "code",
   "execution_count": 4,
   "metadata": {},
   "outputs": [],
   "source": [
    "con=sqlite3.connect('./FPA_FOD_20170508.sqlite')\n",
    "\n",
    "df = pd.read_sql_query(\"SELECT * From Fires\", con)\n"
   ]
  },
  {
   "cell_type": "code",
   "execution_count": 5,
   "metadata": {},
   "outputs": [],
   "source": [
    "cursor = con.cursor()\n",
    "cursor.execute(\"SELECT name FROM sqlite_master WHERE type='table';\")\n",
    "#print(cursor.fetchall())\n",
    "cursor.close()\n",
    "con.close()"
   ]
  },
  {
   "cell_type": "code",
   "execution_count": null,
   "metadata": {},
   "outputs": [],
   "source": [
    "def to_csv():\n",
    "    con=sqlite3.connect('./FPA_FOD_20170508.sqlite')\n",
    "\n",
    "    cursor = con.cursor()\n",
    "    cursor.execute(\"SELECT name FROM sqlite_master WHERE type='table';\")\n",
    "    tables = cursor.fetchall()\n",
    "    for table_name in tables:\n",
    "        table_name = table_name[0]\n",
    "        #if (table_name != 'SpatialIndex' and table_name != 'ElementaryGeometries' and table_name != 'KNN') :\n",
    "        if (table_name == 'Fires'):\n",
    "            table = pd.read_sql_query(\"SELECT * From {}\".format(table_name), con)\n",
    "            table.to_csv(table_name + '.csv', index_label='index')\n",
    "    cursor.close()\n",
    "    con.close()"
   ]
  },
  {
   "cell_type": "code",
   "execution_count": 5,
   "metadata": {},
   "outputs": [],
   "source": [
    "to_csv()"
   ]
  },
  {
   "cell_type": "code",
   "execution_count": 6,
   "metadata": {},
   "outputs": [],
   "source": [
    "# Remove unwanted cols\n",
    "df = df.drop(['OBJECTID','STATE', 'COUNTY','FOD_ID', 'FPA_ID', 'SOURCE_SYSTEM_TYPE', 'SOURCE_SYSTEM',\n",
    "       'NWCG_REPORTING_AGENCY', 'NWCG_REPORTING_UNIT_ID',\n",
    "       'NWCG_REPORTING_UNIT_NAME', 'SOURCE_REPORTING_UNIT',\n",
    "       'SOURCE_REPORTING_UNIT_NAME', 'LOCAL_FIRE_REPORT_ID',\n",
    "       'LOCAL_INCIDENT_ID', 'FIRE_CODE', 'FIRE_NAME',\n",
    "       'ICS_209_INCIDENT_NUMBER', 'ICS_209_NAME', 'MTBS_ID', 'MTBS_FIRE_NAME',\n",
    "       'COMPLEX_NAME', 'FIRE_YEAR', 'STAT_CAUSE_DESCR', 'CONT_DATE',\n",
    "       'CONT_DOY', 'CONT_TIME', 'FIRE_SIZE_CLASS', 'OWNER_CODE', 'OWNER_DESCR',\n",
    "       'FIPS_CODE', 'FIPS_NAME', 'Shape', 'DISCOVERY_TIME'], axis=1)"
   ]
  },
  {
   "cell_type": "code",
   "execution_count": 7,
   "metadata": {},
   "outputs": [
    {
     "name": "stdout",
     "output_type": "stream",
     "text": [
      "Index(['DISCOVERY_DATE', 'DISCOVERY_DOY', 'STAT_CAUSE_CODE', 'FIRE_SIZE',\n",
      "       'LATITUDE', 'LONGITUDE'],\n",
      "      dtype='object')\n"
     ]
    },
    {
     "data": {
      "text/html": [
       "<div>\n",
       "<style scoped>\n",
       "    .dataframe tbody tr th:only-of-type {\n",
       "        vertical-align: middle;\n",
       "    }\n",
       "\n",
       "    .dataframe tbody tr th {\n",
       "        vertical-align: top;\n",
       "    }\n",
       "\n",
       "    .dataframe thead th {\n",
       "        text-align: right;\n",
       "    }\n",
       "</style>\n",
       "<table border=\"1\" class=\"dataframe\">\n",
       "  <thead>\n",
       "    <tr style=\"text-align: right;\">\n",
       "      <th></th>\n",
       "      <th>DISCOVERY_DATE</th>\n",
       "      <th>DISCOVERY_DOY</th>\n",
       "      <th>STAT_CAUSE_CODE</th>\n",
       "      <th>FIRE_SIZE</th>\n",
       "      <th>LATITUDE</th>\n",
       "      <th>LONGITUDE</th>\n",
       "    </tr>\n",
       "  </thead>\n",
       "  <tbody>\n",
       "    <tr>\n",
       "      <th>0</th>\n",
       "      <td>2453403.5</td>\n",
       "      <td>33</td>\n",
       "      <td>9.0</td>\n",
       "      <td>0.10</td>\n",
       "      <td>40.036944</td>\n",
       "      <td>-121.005833</td>\n",
       "    </tr>\n",
       "    <tr>\n",
       "      <th>1</th>\n",
       "      <td>2453137.5</td>\n",
       "      <td>133</td>\n",
       "      <td>1.0</td>\n",
       "      <td>0.25</td>\n",
       "      <td>38.933056</td>\n",
       "      <td>-120.404444</td>\n",
       "    </tr>\n",
       "    <tr>\n",
       "      <th>2</th>\n",
       "      <td>2453156.5</td>\n",
       "      <td>152</td>\n",
       "      <td>5.0</td>\n",
       "      <td>0.10</td>\n",
       "      <td>38.984167</td>\n",
       "      <td>-120.735556</td>\n",
       "    </tr>\n",
       "    <tr>\n",
       "      <th>3</th>\n",
       "      <td>2453184.5</td>\n",
       "      <td>180</td>\n",
       "      <td>1.0</td>\n",
       "      <td>0.10</td>\n",
       "      <td>38.559167</td>\n",
       "      <td>-119.913333</td>\n",
       "    </tr>\n",
       "    <tr>\n",
       "      <th>4</th>\n",
       "      <td>2453184.5</td>\n",
       "      <td>180</td>\n",
       "      <td>1.0</td>\n",
       "      <td>0.10</td>\n",
       "      <td>38.559167</td>\n",
       "      <td>-119.933056</td>\n",
       "    </tr>\n",
       "  </tbody>\n",
       "</table>\n",
       "</div>"
      ],
      "text/plain": [
       "   DISCOVERY_DATE  DISCOVERY_DOY  STAT_CAUSE_CODE  FIRE_SIZE   LATITUDE  \\\n",
       "0       2453403.5             33              9.0       0.10  40.036944   \n",
       "1       2453137.5            133              1.0       0.25  38.933056   \n",
       "2       2453156.5            152              5.0       0.10  38.984167   \n",
       "3       2453184.5            180              1.0       0.10  38.559167   \n",
       "4       2453184.5            180              1.0       0.10  38.559167   \n",
       "\n",
       "    LONGITUDE  \n",
       "0 -121.005833  \n",
       "1 -120.404444  \n",
       "2 -120.735556  \n",
       "3 -119.913333  \n",
       "4 -119.933056  "
      ]
     },
     "execution_count": 7,
     "metadata": {},
     "output_type": "execute_result"
    }
   ],
   "source": [
    "print(df.columns) \n",
    "df.head()"
   ]
  },
  {
   "cell_type": "code",
   "execution_count": 8,
   "metadata": {},
   "outputs": [
    {
     "name": "stdout",
     "output_type": "stream",
     "text": [
      "Num NAN values: 0\n"
     ]
    }
   ],
   "source": [
    "# Check for Nan values\n",
    "df.isnull().values.any()\n",
    "df1 = df[df.isna().any(axis=1)]\n",
    "print(\"Num NAN values: {}\".format(df1.shape[0]))"
   ]
  },
  {
   "cell_type": "code",
   "execution_count": 13,
   "metadata": {},
   "outputs": [
    {
     "name": "stdout",
     "output_type": "stream",
     "text": [
      "[0.1  0.25 0.1 ]\n",
      "(1880465, 5)\n"
     ]
    }
   ],
   "source": [
    "#Changing pandas dataframe to numpy array\n",
    "Y = df['FIRE_SIZE'].values\n",
    "X = np.concatenate( (df['DISCOVERY_DATE'].values.reshape(-1,1),df['DISCOVERY_DOY'].values.reshape(-1,1), \n",
    "                     df['STAT_CAUSE_CODE'].values.reshape(-1,1),\n",
    "                   df['LATITUDE'].values.reshape(-1,1), df['LONGITUDE'].values.reshape(-1,1)), axis = 1 )\n",
    "print(Y[0:3])\n",
    "print(X.shape)\n"
   ]
  },
  {
   "cell_type": "code",
   "execution_count": 14,
   "metadata": {},
   "outputs": [],
   "source": [
    "#Normalize the data\n",
    "sc = StandardScaler()\n",
    "X = sc.fit_transform(X)"
   ]
  },
  {
   "cell_type": "code",
   "execution_count": 16,
   "metadata": {},
   "outputs": [
    {
     "name": "stdout",
     "output_type": "stream",
     "text": [
      "# Train: 940232 , #Test: 940233\n",
      "# inputs: 5\n"
     ]
    }
   ],
   "source": [
    "# Shuffles the data before split\n",
    "# Train/Test split\n",
    "X_train,X_test,y_train,y_test = train_test_split(X,Y,test_size = 0.5)\n",
    "print(\"# Train: {} , #Test: {}\".format(X_train.shape[0], X_test.shape[0]))\n",
    "print(\"# inputs: {}\".format(X_train.shape[1]))\n",
    "n = X_train.shape[1]"
   ]
  },
  {
   "cell_type": "code",
   "execution_count": 20,
   "metadata": {},
   "outputs": [
    {
     "data": {
      "image/png": "[encoded data removed]",
      "text/plain": [
       "<Figure size 432x288 with 1 Axes>"
      ]
     },
     "metadata": {
      "needs_background": "light"
     },
     "output_type": "display_data"
    },
    {
     "name": "stdout",
     "output_type": "stream",
     "text": [
      "Mean fire size: 74.52015833992388\n",
      "Median fire size: 1.0\n",
      "Var in fire size: 6237993.350462397\n"
     ]
    }
   ],
   "source": [
    "#Distibution of fire size\n",
    "plt.hist(Y, bins=np.logspace(-4,6, 50));\n",
    "plt.ylabel('Number of Fires')\n",
    "plt.xlabel('Fire Size')\n",
    "plt.gca().set_yscale(\"log\")\n",
    "plt.gca().set_xscale(\"log\")\n",
    "plt.savefig(\"kaggle_fires_dist_log.png\")\n",
    "plt.show()\n",
    "\n",
    "print(\"Mean fire size: {}\".format(np.mean(Y)))\n",
    "print(\"Median fire size: {}\".format(np.median(Y)))\n",
    "print(\"Var in fire size: {}\".format(np.var(Y)))"
   ]
  },
  {
   "cell_type": "code",
   "execution_count": 18,
   "metadata": {},
   "outputs": [
    {
     "name": "stdout",
     "output_type": "stream",
     "text": [
      "Model: \"sequential_1\"\n",
      "_________________________________________________________________\n",
      "Layer (type)                 Output Shape              Param #   \n",
      "=================================================================\n",
      "dense_1 (Dense)              (None, 32)                192       \n",
      "_________________________________________________________________\n",
      "dense_2 (Dense)              (None, 64)                2112      \n",
      "_________________________________________________________________\n",
      "dropout_1 (Dropout)          (None, 64)                0         \n",
      "_________________________________________________________________\n",
      "dense_3 (Dense)              (None, 128)               8320      \n",
      "_________________________________________________________________\n",
      "dropout_2 (Dropout)          (None, 128)               0         \n",
      "_________________________________________________________________\n",
      "dense_4 (Dense)              (None, 256)               33024     \n",
      "_________________________________________________________________\n",
      "dropout_3 (Dropout)          (None, 256)               0         \n",
      "_________________________________________________________________\n",
      "dense_5 (Dense)              (None, 256)               65792     \n",
      "_________________________________________________________________\n",
      "dropout_4 (Dropout)          (None, 256)               0         \n",
      "_________________________________________________________________\n",
      "dense_6 (Dense)              (None, 128)               32896     \n",
      "_________________________________________________________________\n",
      "dropout_5 (Dropout)          (None, 128)               0         \n",
      "_________________________________________________________________\n",
      "dense_7 (Dense)              (None, 64)                8256      \n",
      "_________________________________________________________________\n",
      "dropout_6 (Dropout)          (None, 64)                0         \n",
      "_________________________________________________________________\n",
      "dense_8 (Dense)              (None, 32)                2080      \n",
      "_________________________________________________________________\n",
      "dropout_7 (Dropout)          (None, 32)                0         \n",
      "_________________________________________________________________\n",
      "dense_9 (Dense)              (None, 16)                528       \n",
      "_________________________________________________________________\n",
      "dense_10 (Dense)             (None, 1)                 17        \n",
      "=================================================================\n",
      "Total params: 153,217\n",
      "Trainable params: 153,217\n",
      "Non-trainable params: 0\n",
      "_________________________________________________________________\n"
     ]
    }
   ],
   "source": [
    "# Neural network\n",
    "model = Sequential()\n",
    "model.add(Dense(32, input_dim=n, kernel_initializer='normal', activation='relu'))\n",
    "model.add(Dense(64, input_dim=n , activation='relu'))\n",
    "model.add(Dropout(0.2))\n",
    "model.add(Dense(128, activation='relu'))\n",
    "model.add(Dropout(0.2))\n",
    "model.add(Dense(256, activation='relu'))\n",
    "model.add(Dropout(0.2))\n",
    "model.add(Dense(256, activation='relu'))\n",
    "model.add(Dropout(0.2))\n",
    "model.add(Dense(128, activation='relu'))\n",
    "model.add(Dropout(0.2))\n",
    "model.add(Dense(64, activation='relu'))\n",
    "model.add(Dropout(0.2))\n",
    "model.add(Dense(32, activation='relu'))\n",
    "model.add(Dropout(0.2))\n",
    "model.add(Dense(16, activation='relu'))\n",
    "model.add(Dense(1, activation='linear'))\n",
    "model.summary()"
   ]
  },
  {
   "cell_type": "code",
   "execution_count": 19,
   "metadata": {},
   "outputs": [],
   "source": [
    "model.compile(loss='mse', optimizer='adam', metrics=['mse','mae'])"
   ]
  },
  {
   "cell_type": "code",
   "execution_count": 18,
   "metadata": {},
   "outputs": [
    {
     "name": "stdout",
     "output_type": "stream",
     "text": [
      "Train on 1523176 samples, validate on 169242 samples\n",
      "Epoch 1/10\n",
      " - 21s - loss: 48.6595 - mse: 48.6595 - mae: 4.9291 - val_loss: 159.8331 - val_mse: 159.8331 - val_mae: 11.9100\n",
      "Epoch 2/10\n",
      " - 21s - loss: 20.4192 - mse: 20.4192 - mae: 3.4406 - val_loss: 133.1046 - val_mse: 133.1046 - val_mae: 10.8512\n",
      "Epoch 3/10\n",
      " - 23s - loss: 15.3836 - mse: 15.3836 - mae: 2.9336 - val_loss: 109.4478 - val_mse: 109.4478 - val_mae: 9.7820\n",
      "Epoch 4/10\n",
      " - 22s - loss: 12.6226 - mse: 12.6226 - mae: 2.5990 - val_loss: 92.5370 - val_mse: 92.5370 - val_mae: 8.9279\n",
      "Epoch 5/10\n",
      " - 22s - loss: 11.2375 - mse: 11.2375 - mae: 2.4050 - val_loss: 87.6749 - val_mse: 87.6748 - val_mae: 8.6104\n",
      "Epoch 6/10\n",
      " - 22s - loss: 10.3881 - mse: 10.3881 - mae: 2.2884 - val_loss: 76.3893 - val_mse: 76.3893 - val_mae: 8.0076\n",
      "Epoch 7/10\n",
      " - 22s - loss: 9.8409 - mse: 9.8409 - mae: 2.2102 - val_loss: 70.1878 - val_mse: 70.1878 - val_mae: 7.5780\n",
      "Epoch 8/10\n",
      " - 23s - loss: 9.4053 - mse: 9.4053 - mae: 2.1467 - val_loss: 63.0735 - val_mse: 63.0735 - val_mae: 7.1255\n",
      "Epoch 9/10\n",
      " - 22s - loss: 9.0207 - mse: 9.0207 - mae: 2.0943 - val_loss: 53.9156 - val_mse: 53.9155 - val_mae: 6.5306\n",
      "Epoch 10/10\n",
      " - 22s - loss: 8.8811 - mse: 8.8811 - mae: 2.0657 - val_loss: 52.3602 - val_mse: 52.3602 - val_mae: 6.2375\n"
     ]
    },
    {
     "data": {
      "text/plain": [
       "<keras.callbacks.callbacks.History at 0x7fdfb9a95908>"
      ]
     },
     "execution_count": 18,
     "metadata": {},
     "output_type": "execute_result"
    }
   ],
   "source": [
    "#Save partly trained model\n",
    "#model.save('partly_trained.h5')\n",
    "\n",
    "#Load partly trained model\n",
    "from keras.models import load_model\n",
    "#model = load_model('partly_trained.h5')\n",
    "\n",
    "#Continue training\n",
    "history = model.fit(X_train, y_train, epochs=10, batch_size=640, verbose = 2, validation_split = 0.1, shuffle=True)"
   ]
  },
  {
   "cell_type": "code",
   "execution_count": 18,
   "metadata": {},
   "outputs": [
    {
     "name": "stdout",
     "output_type": "stream",
     "text": [
      "188047/188047 [==============================] - 4s 20us/step\n",
      "MSE: 52.54, MAE: 6.25\n"
     ]
    }
   ],
   "source": [
    "#Save partly trained model\n",
    "#model.save('partly_trained.h5')\n",
    "\n",
    "#Load partly trained model\n",
    "from keras.models import load_model\n",
    "model = load_model('partly_trained.h5')\n",
    "\n",
    "\n",
    "_, mse, mae = model.evaluate(X_test, y_test)\n",
    "print('MSE: %.2f, MAE: %.2f' % (mse,mae))"
   ]
  },
  {
   "cell_type": "code",
   "execution_count": 27,
   "metadata": {},
   "outputs": [
    {
     "name": "stdout",
     "output_type": "stream",
     "text": [
      "188047/188047 [==============================] - 3s 16us/step\n"
     ]
    },
    {
     "data": {
      "image/png": "[encoded data removed]",
      "text/plain": [
       "<Figure size 432x288 with 1 Axes>"
      ]
     },
     "metadata": {
      "needs_background": "light"
     },
     "output_type": "display_data"
    }
   ],
   "source": [
    "#Visualize some predictions\n",
    "preds = model.predict(X_test, verbose=1)\n",
    "plt.scatter(y_test, preds, s=0.3, marker='.', c='r')\n",
    "plt.xlabel('True Size')\n",
    "plt.ylabel('Predicted Size')\n",
    "plt.plot([20,50],[20,50],c='k',linestyle='--')\n",
    "plt.show()"
   ]
  },
  {
   "cell_type": "code",
   "execution_count": null,
   "metadata": {},
   "outputs": [],
   "source": [
    "# Plot training & validation accuracy values\n",
    "plt.plot(history.history['accuracy'])\n",
    "plt.title('Model Accuracy')\n",
    "plt.ylabel('Accuracy')\n",
    "plt.xlabel('Epoch')\n",
    "plt.legend(['Train', 'Test'], loc='upper left')\n",
    "plt.show()"
   ]
  },
  {
   "cell_type": "code",
   "execution_count": 99,
   "metadata": {},
   "outputs": [
    {
     "data": {
      "image/png": "[encoded data removed]",
      "text/plain": [
       "<Figure size 432x288 with 1 Axes>"
      ]
     },
     "metadata": {
      "needs_background": "light"
     },
     "output_type": "display_data"
    }
   ],
   "source": [
    "# Plot training & validation loss values\n",
    "plt.plot(history.history['loss'])\n",
    "plt.title('Model loss')\n",
    "plt.ylabel('Loss')\n",
    "plt.xlabel('Epoch')\n",
    "plt.legend(['Train', 'Test'], loc='upper left')\n",
    "plt.show()"
   ]
  },
  {
   "cell_type": "code",
   "execution_count": 22,
   "metadata": {},
   "outputs": [
    {
     "name": "stdout",
     "output_type": "stream",
     "text": [
      "MAE: 52.25358612098635\n",
      "MAPE: 50.91423004420715\n",
      "---------------------------------------\n"
     ]
    }
   ],
   "source": [
    "# SVM\n",
    "from sklearn import svm\n",
    "from sklearn.metrics import r2_score, mean_absolute_error\n",
    "\n",
    "n = 70000\n",
    "svm_reg = svm.SVR(kernel='rbf', degree=3, gamma='auto')\n",
    "svm_reg.fit(X_train[0:n,:],y_train[0:n].reshape(-1))\n",
    "\n",
    "y_pred = svm_reg.predict(X_test[0:n,:])\n",
    "\n",
    "def mean_absolute_percentage_error(y_test, y_pred): \n",
    "    return np.mean(np.abs((y_test - y_pred) / (y_test+10e-1)) ) * 100\n",
    "print(\"MAE: {}\".format(mean_absolute_error(y_test[0:n],y_pred)))\n",
    "print(\"MAPE: {}\".format(mean_absolute_percentage_error(y_test[0:n],y_pred)))\n",
    "print(\"---------------------------------------\")\n"
   ]
  },
  {
   "cell_type": "code",
   "execution_count": 21,
   "metadata": {},
   "outputs": [
    {
     "data": {
      "image/png": "[encoded data removed]",
      "text/plain": [
       "<Figure size 432x288 with 1 Axes>"
      ]
     },
     "metadata": {
      "needs_background": "light"
     },
     "output_type": "display_data"
    }
   ],
   "source": [
    "#Visualize svm predictions\n",
    "plt.scatter(y_test[0:n], y_pred, s=0.3, marker='.', c='r')\n",
    "plt.xlabel('True Size')\n",
    "plt.ylabel('Predicted Size')\n",
    "plt.gca().set_xscale(\"log\")\n",
    "plt.gca().set_yscale(\"log\")\n",
    "plt.plot([.1,20,1000],[.1,20,1000],c='k',linestyle='--')\n",
    "plt.savefig(\"kaggle_fires_svm_preds.png\")\n",
    "plt.show()"
   ]
  },
  {
   "cell_type": "code",
   "execution_count": 31,
   "metadata": {},
   "outputs": [
    {
     "name": "stdout",
     "output_type": "stream",
     "text": [
      "MAE: 2.9377906768043127\n",
      "r2: 0.5936004578504975\n",
      "---------------------------------------\n"
     ]
    }
   ],
   "source": [
    "# SKlearn MLP\n",
    "from sklearn.neural_network import MLPRegressor\n",
    "\n",
    "n = 10000\n",
    "\n",
    "NN = MLPRegressor(hidden_layer_sizes=(800,800,800,800),max_iter=200\n",
    "                 )\n",
    "\n",
    "NN.fit(X_train[0:n,:],y_train[0:n].reshape(-1))\n",
    "y_pred = NN.predict(X_test[0:n,:])\n",
    "\n",
    "print(\"MAE: {}\".format(mean_absolute_error(y_test[0:n],y_pred)))\n",
    "print(\"r2: {}\".format(r2_score(y_test[0:n],y_pred)))\n",
    "print(\"---------------------------------------\")\n",
    "\n"
   ]
  },
  {
   "cell_type": "code",
   "execution_count": 39,
   "metadata": {},
   "outputs": [
    {
     "name": "stdout",
     "output_type": "stream",
     "text": [
      "nbs: 3, wts: distance\n",
      "MAE: 2.850458582088001\n",
      "r2: 0.5466271766560886\n",
      "---------------------------------------\n",
      "nbs: 3, wts: uniform\n",
      "MAE: 2.896626296530333\n",
      "r2: 0.5412828579215408\n",
      "---------------------------------------\n",
      "nbs: 5, wts: distance\n",
      "MAE: 2.8078940836804565\n",
      "r2: 0.5739384391773825\n",
      "---------------------------------------\n",
      "nbs: 5, wts: uniform\n",
      "MAE: 2.8843075882324003\n",
      "r2: 0.5603553094200107\n",
      "---------------------------------------\n",
      "nbs: 10, wts: distance\n",
      "MAE: 2.829045443568786\n",
      "r2: 0.5784726497971278\n",
      "---------------------------------------\n",
      "nbs: 10, wts: uniform\n",
      "MAE: 2.9426652407788003\n",
      "r2: 0.5520116486941183\n",
      "---------------------------------------\n"
     ]
    }
   ],
   "source": [
    "# K Nearest Neighbours\n",
    "from sklearn.neighbors import KNeighborsRegressor\n",
    "\n",
    "n = 10000\n",
    "\n",
    "for nbs in [3,5,10]:\n",
    "    for wts in ['distance','uniform']:\n",
    "        K_nn = KNeighborsRegressor(n_neighbors=nbs,\n",
    "                                   weights=wts,\n",
    "                                   n_jobs=6)\n",
    "\n",
    "        K_nn.fit(X_train[0:n,:],y_train[0:n].reshape(-1))\n",
    "        y_pred = K_nn.predict(X_test[0:n,:])\n",
    "\n",
    "        print(\"nbs: {}, wts: {}\".format(nbs, wts))\n",
    "        print(\"MAE: {}\".format(mean_absolute_error(y_test[0:n],y_pred)))\n",
    "        print(\"r2: {}\".format(r2_score(y_test[0:n],y_pred)))\n",
    "        print(\"---------------------------------------\")\n"
   ]
  },
  {
   "cell_type": "code",
   "execution_count": 47,
   "metadata": {},
   "outputs": [
    {
     "name": "stdout",
     "output_type": "stream",
     "text": [
      "MAE: 3.0811215912115\n",
      "r2: 0.37784189558739967\n",
      "---------------------------------------\n"
     ]
    }
   ],
   "source": [
    "# Decision Tree\n",
    "from sklearn import tree\n",
    "\n",
    "tree_clf = tree.DecisionTreeRegressor(criterion='mae')\n",
    "\n",
    "tree_clf.fit(X_train[0:n,:],y_train[0:n].reshape(-1))\n",
    "\n",
    "y_pred = tree_clf.predict(X_test[0:n,:])\n",
    "\n",
    "print(\"MAE: {}\".format(mean_absolute_error(y_test[0:n],y_pred)))\n",
    "print(\"r2: {}\".format(r2_score(y_test[0:n],y_pred)))\n",
    "print(\"---------------------------------------\")\n"
   ]
  },
  {
   "cell_type": "code",
   "execution_count": 46,
   "metadata": {},
   "outputs": [
    {
     "name": "stdout",
     "output_type": "stream",
     "text": [
      "MAE: 2.8222310234315002\n",
      "r2: 0.5813896406600833\n",
      "---------------------------------------\n"
     ]
    }
   ],
   "source": [
    "# Stacked regressors\n",
    "from mlxtend.regressor import StackingRegressor\n",
    "\n",
    "n = 10000\n",
    "\n",
    "estimators = [K_nn, NN, svm_reg]\n",
    "\n",
    "regStack = StackingRegressor(regressors=estimators,\n",
    "                             meta_regressor=NN)\n",
    "\n",
    "regStack.fit(X_train[0:n,:],y_train[0:n].reshape(-1))\n",
    "\n",
    "y_pred = regStack.predict(X_test[0:n,:])\n",
    "\n",
    "print(\"MAE: {}\".format(mean_absolute_error(y_test[0:n],y_pred)))\n",
    "print(\"r2: {}\".format(r2_score(y_test[0:n],y_pred)))\n",
    "print(\"---------------------------------------\")\n"
   ]
  },
  {
   "cell_type": "code",
   "execution_count": 20,
   "metadata": {},
   "outputs": [
    {
     "name": "stdout",
     "output_type": "stream",
     "text": [
      "           Feature  f_classif Score\n",
      "3         LATITUDE        24.497878\n",
      "4        LONGITUDE        16.196986\n",
      "1    DISCOVERY_DOY         6.128625\n",
      "2  STAT_CAUSE_CODE         4.302896\n",
      "0   DISCOVERY_DATE         2.265001\n"
     ]
    }
   ],
   "source": [
    "#Best Features - Univariate statistical selection\n",
    "from sklearn.feature_selection import SelectKBest\n",
    "from sklearn.feature_selection import chi2, f_classif, mutual_info_classif\n",
    "\n",
    "feature_names = ['DISCOVERY_DATE', 'DISCOVERY_DOY', 'STAT_CAUSE_CODE', 'LATITUDE', 'LONGITUDE']\n",
    "bestfeatures = SelectKBest(score_func=f_classif, k=5)\n",
    "fit = bestfeatures.fit(X,np.array(Y).astype(int))\n",
    "dfscores = pd.DataFrame(fit.scores_)\n",
    "df_specs = pd.Series(feature_names).astype(str)\n",
    "featureScores = pd.concat([df_specs,dfscores],axis=1)\n",
    "featureScores.columns = ['Feature','f_classif Score'] \n",
    "print(featureScores.nlargest(5,'f_classif Score'))  "
   ]
  },
  {
   "cell_type": "code",
   "execution_count": 21,
   "metadata": {},
   "outputs": [
    {
     "name": "stderr",
     "output_type": "stream",
     "text": [
      "/home/ben/.local/lib/python3.5/site-packages/sklearn/ensemble/forest.py:245: FutureWarning: The default value of n_estimators will change from 10 in version 0.20 to 100 in 0.22.\n",
      "  \"10 in version 0.20 to 100 in 0.22.\", FutureWarning)\n"
     ]
    },
    {
     "data": {
      "image/png": "[encoded data removed]",
      "text/plain": [
       "<Figure size 432x288 with 1 Axes>"
      ]
     },
     "metadata": {
      "needs_background": "light"
     },
     "output_type": "display_data"
    }
   ],
   "source": [
    "#Best Features - importance\n",
    "# Feature importance gives you a score for each feature of your data, the higher the score more \n",
    "# important or relevant is the feature towards your output variable.\n",
    "# Feature importance is an inbuilt class that comes with Tree Based Classifiers, we will be using \n",
    "# Extra Tree Classifier for extracting the top 10 features for the dataset.\n",
    "\n",
    "from sklearn.ensemble import ExtraTreesRegressor\n",
    "import matplotlib.pyplot as plt\n",
    "model = ExtraTreesRegressor()\n",
    "model.fit(X_train,y_train)\n",
    "feat_importances = pd.Series(model.feature_importances_, index=feature_names)\n",
    "feat_importances.nlargest(10).plot(kind='barh')\n",
    "plt.show()"
   ]
  },
  {
   "cell_type": "code",
   "execution_count": 26,
   "metadata": {},
   "outputs": [
    {
     "name": "stdout",
     "output_type": "stream",
     "text": [
      "Index(['DISCOVERY_DATE', 'DISCOVERY_DOY', 'STAT_CAUSE_CODE', 'FIRE_SIZE',\n",
      "       'LATITUDE', 'LONGITUDE'],\n",
      "      dtype='object')\n"
     ]
    },
    {
     "data": {
      "image/png": "[encoded data removed]",
      "text/plain": [
       "<Figure size 720x720 with 2 Axes>"
      ]
     },
     "metadata": {
      "needs_background": "light"
     },
     "output_type": "display_data"
    }
   ],
   "source": [
    "# Best feautres - correlation heatmap\n",
    "print(df.columns) \n",
    "import seaborn as sns\n",
    "feature_names = ['DISCOVERY_DATE', 'DISCOVERY_DOY', 'STAT_CAUSE_CODE', 'LATITUDE', 'LONGITUDE','FIRE_SIZE']\n",
    "data = np.concatenate((X_train,y_train.reshape(-1,1)),axis=1)\n",
    "corrmat = np.corrcoef(data.T)\n",
    "plt.figure(figsize=(10,10))\n",
    "g=sns.heatmap(corrmat,annot=True,cmap=\"coolwarm\")\n",
    "g.set_xticklabels(feature_names,rotation=30)\n",
    "g.set_yticklabels(feature_names,rotation=30)\n",
    "plt.show()"
   ]
  },
  {
   "cell_type": "code",
   "execution_count": null,
   "metadata": {},
   "outputs": [],
   "source": []
  }
 ],
 "metadata": {
  "@webio": {
   "lastCommId": null,
   "lastKernelId": null
  },
  "kernelspec": {
   "display_name": "Python 3",
   "language": "python",
   "name": "python3"
  },
  "language_info": {
   "codemirror_mode": {
    "name": "ipython",
    "version": 3
   },
   "file_extension": ".py",
   "mimetype": "text/x-python",
   "name": "python",
   "nbconvert_exporter": "python",
   "pygments_lexer": "ipython3",
   "version": "3.5.2"
  }
 },
 "nbformat": 4,
 "nbformat_minor": 2
}
